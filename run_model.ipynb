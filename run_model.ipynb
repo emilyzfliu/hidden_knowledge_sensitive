{
  "cells": [
    {
      "cell_type": "code",
      "source": [
        "!rm -rf hidden_knowledge_sensitive\n",
        "!git clone https://github.com/emilyzfliu/hidden_knowledge_sensitive"
      ],
      "metadata": {
        "id": "CyInDsoLVhNF"
      },
      "execution_count": null,
      "outputs": []
    },
    {
      "cell_type": "code",
      "source": [
        "%cd hidden_knowledge_sensitive"
      ],
      "metadata": {
        "id": "m_Ai_SWDVxzh"
      },
      "execution_count": null,
      "outputs": []
    },
    {
      "cell_type": "code",
      "source": [
        "!pip install -r requirements.txt"
      ],
      "metadata": {
        "id": "5XwTRCFRV3oi"
      },
      "execution_count": null,
      "outputs": []
    },
    {
      "cell_type": "code",
      "execution_count": null,
      "metadata": {
        "id": "jbA2NEGHVcdr"
      },
      "outputs": [],
      "source": [
        "from model_integration import evaluate_model\n",
        "from visualize_results import ResultsVisualizer"
      ]
    },
    {
      "cell_type": "code",
      "execution_count": null,
      "metadata": {
        "id": "r73IRGCvVcds"
      },
      "outputs": [],
      "source": [
        "model_name = 'facebook/opt-125m'\n",
        "temperature = 0.7\n",
        "max_new_tokens = 100\n",
        "batch_size = 32"
      ]
    },
    {
      "cell_type": "code",
      "execution_count": null,
      "metadata": {
        "id": "hyFR-rX_Vcds"
      },
      "outputs": [],
      "source": [
        "evaluate_model(model_name, temperature=temperature, max_new_tokens=max_new_tokens, batch_size = batch_size)"
      ]
    },
    {
      "cell_type": "code",
      "execution_count": null,
      "metadata": {
        "id": "b0-bVKLHVcds"
      },
      "outputs": [],
      "source": [
        "visualizer = ResultsVisualizer('evaluation_results_facebook_opt-125m.json')\n",
        "visualizer.visualize()"
      ]
    }
  ],
  "metadata": {
    "kernelspec": {
      "display_name": "Python 3",
      "name": "python3"
    },
    "language_info": {
      "name": "python",
      "version": "3.13.1"
    },
    "colab": {
      "provenance": [],
      "machine_shape": "hm",
      "gpuType": "A100"
    },
    "accelerator": "GPU"
  },
  "nbformat": 4,
  "nbformat_minor": 0
}