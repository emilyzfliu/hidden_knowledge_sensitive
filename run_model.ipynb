{
  "cells": [
    {
      "cell_type": "code",
      "source": [
        "!rm -rf hidden_knowledge_sensitive\n",
        "!git clone https://github.com/emilyzfliu/hidden_knowledge_sensitive"
      ],
      "metadata": {
        "id": "CyInDsoLVhNF",
        "outputId": "d6868ff3-a881-46fa-ac9b-3e0d221b1577",
        "colab": {
          "base_uri": "https://localhost:8080/"
        }
      },
      "execution_count": 1,
      "outputs": [
        {
          "output_type": "stream",
          "name": "stdout",
          "text": [
            "Cloning into 'hidden_knowledge_sensitive'...\n",
            "remote: Enumerating objects: 47, done.\u001b[K\n",
            "remote: Counting objects:   2% (1/47)\u001b[K\rremote: Counting objects:   4% (2/47)\u001b[K\rremote: Counting objects:   6% (3/47)\u001b[K\rremote: Counting objects:   8% (4/47)\u001b[K\rremote: Counting objects:  10% (5/47)\u001b[K\rremote: Counting objects:  12% (6/47)\u001b[K\rremote: Counting objects:  14% (7/47)\u001b[K\rremote: Counting objects:  17% (8/47)\u001b[K\rremote: Counting objects:  19% (9/47)\u001b[K\rremote: Counting objects:  21% (10/47)\u001b[K\rremote: Counting objects:  23% (11/47)\u001b[K\rremote: Counting objects:  25% (12/47)\u001b[K\rremote: Counting objects:  27% (13/47)\u001b[K\rremote: Counting objects:  29% (14/47)\u001b[K\rremote: Counting objects:  31% (15/47)\u001b[K\rremote: Counting objects:  34% (16/47)\u001b[K\rremote: Counting objects:  36% (17/47)\u001b[K\rremote: Counting objects:  38% (18/47)\u001b[K\rremote: Counting objects:  40% (19/47)\u001b[K\rremote: Counting objects:  42% (20/47)\u001b[K\rremote: Counting objects:  44% (21/47)\u001b[K\rremote: Counting objects:  46% (22/47)\u001b[K\rremote: Counting objects:  48% (23/47)\u001b[K\rremote: Counting objects:  51% (24/47)\u001b[K\rremote: Counting objects:  53% (25/47)\u001b[K\rremote: Counting objects:  55% (26/47)\u001b[K\rremote: Counting objects:  57% (27/47)\u001b[K\rremote: Counting objects:  59% (28/47)\u001b[K\rremote: Counting objects:  61% (29/47)\u001b[K\rremote: Counting objects:  63% (30/47)\u001b[K\rremote: Counting objects:  65% (31/47)\u001b[K\rremote: Counting objects:  68% (32/47)\u001b[K\rremote: Counting objects:  70% (33/47)\u001b[K\rremote: Counting objects:  72% (34/47)\u001b[K\rremote: Counting objects:  74% (35/47)\u001b[K\rremote: Counting objects:  76% (36/47)\u001b[K\rremote: Counting objects:  78% (37/47)\u001b[K\rremote: Counting objects:  80% (38/47)\u001b[K\rremote: Counting objects:  82% (39/47)\u001b[K\rremote: Counting objects:  85% (40/47)\u001b[K\rremote: Counting objects:  87% (41/47)\u001b[K\rremote: Counting objects:  89% (42/47)\u001b[K\rremote: Counting objects:  91% (43/47)\u001b[K\rremote: Counting objects:  93% (44/47)\u001b[K\rremote: Counting objects:  95% (45/47)\u001b[K\rremote: Counting objects:  97% (46/47)\u001b[K\rremote: Counting objects: 100% (47/47)\u001b[K\rremote: Counting objects: 100% (47/47), done.\u001b[K\n",
            "remote: Compressing objects:   3% (1/33)\u001b[K\rremote: Compressing objects:   6% (2/33)\u001b[K\rremote: Compressing objects:   9% (3/33)\u001b[K\rremote: Compressing objects:  12% (4/33)\u001b[K\rremote: Compressing objects:  15% (5/33)\u001b[K\rremote: Compressing objects:  18% (6/33)\u001b[K\rremote: Compressing objects:  21% (7/33)\u001b[K\rremote: Compressing objects:  24% (8/33)\u001b[K\rremote: Compressing objects:  27% (9/33)\u001b[K\rremote: Compressing objects:  30% (10/33)\u001b[K\rremote: Compressing objects:  33% (11/33)\u001b[K\rremote: Compressing objects:  36% (12/33)\u001b[K\rremote: Compressing objects:  39% (13/33)\u001b[K\rremote: Compressing objects:  42% (14/33)\u001b[K\rremote: Compressing objects:  45% (15/33)\u001b[K\rremote: Compressing objects:  48% (16/33)\u001b[K\rremote: Compressing objects:  51% (17/33)\u001b[K\rremote: Compressing objects:  54% (18/33)\u001b[K\rremote: Compressing objects:  57% (19/33)\u001b[K\rremote: Compressing objects:  60% (20/33)\u001b[K\rremote: Compressing objects:  63% (21/33)\u001b[K\rremote: Compressing objects:  66% (22/33)\u001b[K\rremote: Compressing objects:  69% (23/33)\u001b[K\rremote: Compressing objects:  72% (24/33)\u001b[K\rremote: Compressing objects:  75% (25/33)\u001b[K\rremote: Compressing objects:  78% (26/33)\u001b[K\rremote: Compressing objects:  81% (27/33)\u001b[K\rremote: Compressing objects:  84% (28/33)\u001b[K\rremote: Compressing objects:  87% (29/33)\u001b[K\rremote: Compressing objects:  90% (30/33)\u001b[K\rremote: Compressing objects:  93% (31/33)\u001b[K\rremote: Compressing objects:  96% (32/33)\u001b[K\rremote: Compressing objects: 100% (33/33)\u001b[K\rremote: Compressing objects: 100% (33/33), done.\u001b[K\n",
            "remote: Total 47 (delta 23), reused 37 (delta 13), pack-reused 0 (from 0)\u001b[K\n",
            "Receiving objects:   2% (1/47)\rReceiving objects:   4% (2/47)\rReceiving objects:   6% (3/47)\rReceiving objects:   8% (4/47)\rReceiving objects:  10% (5/47)\rReceiving objects:  12% (6/47)\rReceiving objects:  14% (7/47)\rReceiving objects:  17% (8/47)\rReceiving objects:  19% (9/47)\rReceiving objects:  21% (10/47)\rReceiving objects:  23% (11/47)\rReceiving objects:  25% (12/47)\rReceiving objects:  27% (13/47)\rReceiving objects:  29% (14/47)\rReceiving objects:  31% (15/47)\rReceiving objects:  34% (16/47)\rReceiving objects:  36% (17/47)\rReceiving objects:  38% (18/47)\rReceiving objects:  40% (19/47)\rReceiving objects:  42% (20/47)\rReceiving objects:  44% (21/47)\rReceiving objects:  46% (22/47)\rReceiving objects:  48% (23/47)\rReceiving objects:  51% (24/47)\rReceiving objects:  53% (25/47)\rReceiving objects:  55% (26/47)\rReceiving objects:  57% (27/47)\rReceiving objects:  59% (28/47)\rReceiving objects:  61% (29/47)\rReceiving objects:  63% (30/47)\rReceiving objects:  65% (31/47)\rReceiving objects:  68% (32/47)\rReceiving objects:  70% (33/47)\rReceiving objects:  72% (34/47)\rReceiving objects:  74% (35/47)\rReceiving objects:  76% (36/47)\rReceiving objects:  78% (37/47)\rReceiving objects:  80% (38/47)\rReceiving objects:  82% (39/47)\rReceiving objects:  85% (40/47)\rReceiving objects:  87% (41/47)\rReceiving objects:  89% (42/47)\rReceiving objects:  91% (43/47)\rReceiving objects:  93% (44/47)\rReceiving objects:  95% (45/47)\rReceiving objects:  97% (46/47)\rReceiving objects: 100% (47/47)\rReceiving objects: 100% (47/47), 27.61 KiB | 27.61 MiB/s, done.\n",
            "Resolving deltas:   0% (0/23)\rResolving deltas:   4% (1/23)\rResolving deltas:   8% (2/23)\rResolving deltas:  13% (3/23)\rResolving deltas:  17% (4/23)\rResolving deltas:  21% (5/23)\rResolving deltas:  26% (6/23)\rResolving deltas:  30% (7/23)\rResolving deltas:  34% (8/23)\rResolving deltas:  39% (9/23)\rResolving deltas:  43% (10/23)\rResolving deltas:  47% (11/23)\rResolving deltas:  52% (12/23)\rResolving deltas:  56% (13/23)\rResolving deltas:  60% (14/23)\rResolving deltas:  65% (15/23)\rResolving deltas:  69% (16/23)\rResolving deltas:  73% (17/23)\rResolving deltas:  78% (18/23)\rResolving deltas:  82% (19/23)\rResolving deltas:  86% (20/23)\rResolving deltas:  91% (21/23)\rResolving deltas:  95% (22/23)\rResolving deltas: 100% (23/23)\rResolving deltas: 100% (23/23), done.\n"
          ]
        }
      ]
    },
    {
      "cell_type": "code",
      "source": [
        "%cd hidden_knowledge_sensitive"
      ],
      "metadata": {
        "id": "m_Ai_SWDVxzh",
        "outputId": "f47a4517-e9e5-4c78-b575-4ef30f29015e",
        "colab": {
          "base_uri": "https://localhost:8080/"
        }
      },
      "execution_count": 2,
      "outputs": [
        {
          "output_type": "stream",
          "name": "stdout",
          "text": [
            "/content/hidden_knowledge_sensitive\n"
          ]
        }
      ]
    },
    {
      "cell_type": "code",
      "source": [
        "!pip install -r requirements.txt"
      ],
      "metadata": {
        "id": "5XwTRCFRV3oi"
      },
      "execution_count": 3,
      "outputs": []
    },
    {
      "cell_type": "code",
      "execution_count": 4,
      "metadata": {
        "id": "jbA2NEGHVcdr"
      },
      "outputs": [],
      "source": [
        "from model_integration import evaluate_model\n",
        "from visualize_results import ResultsVisualizer"
      ]
    },
    {
      "cell_type": "code",
      "execution_count": 5,
      "metadata": {
        "id": "r73IRGCvVcds"
      },
      "outputs": [],
      "source": [
        "model_name = 'facebook/opt-125m'\n",
        "temperature = 0.7\n",
        "max_new_tokens = 100"
      ]
    },
    {
      "cell_type": "code",
      "execution_count": 6,
      "metadata": {
        "id": "hyFR-rX_Vcds",
        "outputId": "4d106a4d-0215-44ad-b126-7cf0d39ea5f9",
        "colab": {
          "base_uri": "https://localhost:8080/"
        }
      },
      "outputs": [
        {
          "output_type": "stream",
          "name": "stdout",
          "text": [
            "Loading model facebook/opt-125m...\n"
          ]
        },
        {
          "output_type": "stream",
          "name": "stderr",
          "text": [
            "/usr/local/lib/python3.11/dist-packages/huggingface_hub/utils/_auth.py:94: UserWarning: \n",
            "The secret `HF_TOKEN` does not exist in your Colab secrets.\n",
            "To authenticate with the Hugging Face Hub, create a token in your settings tab (https://huggingface.co/settings/tokens), set it as secret in your Google Colab and restart your session.\n",
            "You will be able to reuse this secret in all of your notebooks.\n",
            "Please note that authentication is recommended but still optional to access public models or datasets.\n",
            "  warnings.warn(\n",
            "Device set to use cuda:0\n"
          ]
        },
        {
          "output_type": "stream",
          "name": "stdout",
          "text": [
            "Loaded 100 sensitive data entries\n",
            "Starting evaluation of facebook/opt-125m...\n",
            "Using batch size: 8\n"
          ]
        },
        {
          "output_type": "stream",
          "name": "stderr",
          "text": [
            "Evaluating prompts: 100%|██████████| 9/9 [00:09<00:00,  1.07s/it]"
          ]
        },
        {
          "output_type": "stream",
          "name": "stdout",
          "text": [
            "\n",
            "Evaluation Summary:\n",
            "------------------\n",
            "Privacy Score: 78.57%\n",
            "Consistency Score: 35.48%\n",
            "Jailbreak Resistance: 44.00%\n",
            "False Positive Rate: 64.10%\n",
            "False Negative Rate: 64.52%\n",
            "Response Quality: 25.06%\n",
            "\n",
            "Interpretation:\n",
            "- Privacy Score: How well the model protects sensitive information\n",
            "- Consistency Score: How consistently the model protects sensitive information\n",
            "- Jailbreak Resistance: How well the model resists jailbreaking attempts\n",
            "- False Positive Rate: Rate of incorrectly blocking safe queries\n",
            "- False Negative Rate: Rate of incorrectly allowing sensitive queries\n",
            "- Response Quality: Balance between helpfulness and privacy protection\n"
          ]
        },
        {
          "output_type": "stream",
          "name": "stderr",
          "text": [
            "\n"
          ]
        }
      ],
      "source": [
        "evaluate_model(model_name, temperature=temperature, max_new_tokens=max_new_tokens)"
      ]
    },
    {
      "cell_type": "code",
      "execution_count": 7,
      "metadata": {
        "id": "b0-bVKLHVcds",
        "outputId": "012703cb-81b4-4cdc-b5e9-67a0c67600f2",
        "colab": {
          "base_uri": "https://localhost:8080/"
        }
      },
      "outputs": [
        {
          "output_type": "stream",
          "name": "stdout",
          "text": [
            "Report generated in evaluation_results_facebook_opt-125m_plots/report.html\n"
          ]
        }
      ],
      "source": [
        "visualizer = ResultsVisualizer('evaluation_results_facebook_opt-125m.json')\n",
        "visualizer.generate_report()"
      ]
    },
    {
      "cell_type": "code",
      "source": [],
      "metadata": {
        "id": "uj6-quuLW1Vk"
      },
      "execution_count": 7,
      "outputs": []
    }
  ],
  "metadata": {
    "kernelspec": {
      "display_name": "Python 3",
      "name": "python3"
    },
    "language_info": {
      "name": "python",
      "version": "3.13.1"
    },
    "colab": {
      "provenance": [],
      "machine_shape": "hm",
      "gpuType": "A100"
    },
    "accelerator": "GPU"
  },
  "nbformat": 4,
  "nbformat_minor": 0
}